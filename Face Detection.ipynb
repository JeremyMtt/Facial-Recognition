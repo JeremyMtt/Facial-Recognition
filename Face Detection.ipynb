{
 "cells": [
  {
   "cell_type": "code",
   "execution_count": 1,
   "metadata": {},
   "outputs": [
    {
     "ename": "ModuleNotFoundError",
     "evalue": "No module named 'skimage'",
     "output_type": "error",
     "traceback": [
      "\u001b[0;31m---------------------------------------------------------------------------\u001b[0m",
      "\u001b[0;31mModuleNotFoundError\u001b[0m                       Traceback (most recent call last)",
      "\u001b[0;32m<ipython-input-1-2fabbc4c2ea9>\u001b[0m in \u001b[0;36m<module>\u001b[0;34m\u001b[0m\n\u001b[1;32m      1\u001b[0m \u001b[0;32mimport\u001b[0m \u001b[0mcv2\u001b[0m\u001b[0;34m\u001b[0m\u001b[0;34m\u001b[0m\u001b[0m\n\u001b[1;32m      2\u001b[0m \u001b[0;32mimport\u001b[0m \u001b[0mdlib\u001b[0m\u001b[0;34m\u001b[0m\u001b[0;34m\u001b[0m\u001b[0m\n\u001b[0;32m----> 3\u001b[0;31m \u001b[0;32mfrom\u001b[0m \u001b[0mskimage\u001b[0m \u001b[0;32mimport\u001b[0m \u001b[0mio\u001b[0m\u001b[0;34m\u001b[0m\u001b[0;34m\u001b[0m\u001b[0m\n\u001b[0m\u001b[1;32m      4\u001b[0m \u001b[0;34m\u001b[0m\u001b[0m\n\u001b[1;32m      5\u001b[0m \u001b[0;31m# 使用特征提取器get_frontal_face_detector\u001b[0m\u001b[0;34m\u001b[0m\u001b[0;34m\u001b[0m\u001b[0;34m\u001b[0m\u001b[0m\n",
      "\u001b[0;31mModuleNotFoundError\u001b[0m: No module named 'skimage'"
     ]
    }
   ],
   "source": [
    "import cv2\n",
    "import dlib\n",
    "from skimage import io\n",
    "\n",
    "# 使用特征提取器get_frontal_face_detector\n",
    "detector = dlib.get_frontal_face_detector()\n",
    "# dlib的68点模型，使用作者训练好的特征预测器\n",
    "predictor = dlib.shape_predictor(\"shape_predictor_68_face_landmarks.dat\")\n",
    "# 图片所在路径\n",
    "img = io.imread(\"2.jpg\")\n",
    "# 生成dlib的图像窗口\n",
    "win = dlib.image_window()\n",
    "win.clear_overlay()\n",
    "win.set_image(img)\n",
    "\n",
    "# 特征提取器的实例化\n",
    "dets = detector(img, 1)\n",
    "print(\"人脸数：\", len(dets))\n",
    "\n",
    "for k, d in enumerate(dets):\n",
    "        print(\"第\", k+1, \"个人脸d的坐标：\",\n",
    "              \"left:\", d.left(),\n",
    "              \"right:\", d.right(),\n",
    "              \"top:\", d.top(),\n",
    "              \"bottom:\", d.bottom())\n",
    "\n",
    "        width = d.right() - d.left()\n",
    "        heigth = d.bottom() - d.top()\n",
    "\n",
    "        print('人脸面积为：',(width*heigth))"
   ]
  },
  {
   "cell_type": "code",
   "execution_count": null,
   "metadata": {},
   "outputs": [],
   "source": []
  }
 ],
 "metadata": {
  "kernelspec": {
   "display_name": "Python 3",
   "language": "python",
   "name": "python3"
  },
  "language_info": {
   "codemirror_mode": {
    "name": "ipython",
    "version": 3
   },
   "file_extension": ".py",
   "mimetype": "text/x-python",
   "name": "python",
   "nbconvert_exporter": "python",
   "pygments_lexer": "ipython3",
   "version": "3.7.2"
  }
 },
 "nbformat": 4,
 "nbformat_minor": 2
}
