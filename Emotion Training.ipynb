{
 "cells": [
  {
   "cell_type": "code",
   "execution_count": 1,
   "metadata": {},
   "outputs": [
    {
     "ename": "SyntaxError",
     "evalue": "invalid syntax (<ipython-input-1-b0209d33c02e>, line 76)",
     "output_type": "error",
     "traceback": [
      "\u001b[0;36m  File \u001b[0;32m\"<ipython-input-1-b0209d33c02e>\"\u001b[0;36m, line \u001b[0;32m76\u001b[0m\n\u001b[0;31m    ---------------------\u001b[0m\n\u001b[0m                          ^\u001b[0m\n\u001b[0;31mSyntaxError\u001b[0m\u001b[0;31m:\u001b[0m invalid syntax\n"
     ]
    }
   ],
   "source": [
    "import cv2\n",
    "import sys\n",
    "import json\n",
    "import time\n",
    "import numpy as np\n",
    "\n",
    "from keras.models import model_from_json\n",
    "\n",
    "\n",
    "emotion_labels = ['angry', 'fear', 'happy', 'sad', 'surprise', 'neutral']\n",
    "\n",
    "cascPath = sys.argv[1]\n",
    "\n",
    "faceCascade = cv2.CascadeClassifier(cascPath)\n",
    "\n",
    "# load json and create model arch\n",
    "json_file = open('model.json','r')\n",
    "loaded_model_json = json_file.read()\n",
    "json_file.close()\n",
    "model = model_from_json(loaded_model_json)\n",
    "\n",
    "# load weights into new model\n",
    "model.load_weights('model.h5')\n",
    "\n",
    "def predict_emotion(face_image_gray): # a single cropped face\n",
    "    resized_img = cv2.resize(face_image_gray, (48,48), interpolation = cv2.INTER_AREA)\n",
    "\n",
    "    image = resized_img.reshape(1, 1, 48, 48)\n",
    "    im = cv2.resize(resized_img,(90,100))\n",
    "    cv2.imwrite('face.bmp', im)\n",
    "    list_of_list = model.predict(image, batch_size=1, verbose=1)\n",
    "    angry, fear, happy, sad, surprise, neutral = [prob for lst in list_of_list for prob in lst]\n",
    "    return [angry, fear, happy, sad, surprise, neutral]\n",
    "\n",
    "video_capture = cv2.VideoCapture(0)\n",
    "while True:\n",
    "    # Capture frame-by-frame\n",
    "    ret, frame = video_capture.read()\n",
    "    img_gray = cv2.cvtColor(frame, cv2.COLOR_BGR2GRAY,1)\n",
    "\n",
    "\n",
    "    faces = faceCascade.detectMultiScale(\n",
    "        img_gray,\n",
    "        scaleFactor=1.1,\n",
    "        minNeighbors=1,\n",
    "        minSize=(30, 30),\n",
    "        flags=cv2.CASCADE_SCALE_IMAGE\n",
    "\n",
    "    )\n",
    "    emotions = []\n",
    "    # Draw a rectangle around the faces\n",
    "    for (x, y, w, h) in faces:\n",
    "        face_image_gray = img_gray[y:y+h, x:x+w]\n",
    "        angry, fear, happy, sad, surprise, neutral = predict_emotion(face_image_gray)\n",
    "        emotions = [angry, fear, happy, sad, surprise, neutral]\n",
    "        m = emotions.index(max(emotions))\n",
    "        biaoqing = \"\"\n",
    "        for index, val in enumerate(emotion_labels):\n",
    "            if (m == index):\n",
    "                biaoqing = val\n",
    "                print(biaoqing)\n",
    "        cv2.rectangle(frame, (x, y), (x + w, y + h), (0, 255, 0), 2)\n",
    "        #cv2.putText(frame, biaoqing, (x, y),\n",
    "        #           cv2.FONT_HERSHEY_PLAIN, 1, (0, 255, 0),\n",
    "        #           thickness=2, lineType=2)\n",
    "        with open('emotion.txt', 'a') as f:\n",
    "            f.write('{},{},{},{},{},{},{},{}\\n'.format(time.time(),angry, fear, happy, sad, surprise, neutral,biaoqing))\n",
    "    # Display the resulting frame\n",
    "    cv2.imshow('Video', frame)\n",
    "    if cv2.waitKey(1) & 0xFF == ord('q'):\n",
    "        break\n",
    "\n",
    "# When everything is done, release the capture\n",
    "video_capture.release()\n",
    "cv2.destroyAllWindows()\n"
   ]
  },
  {
   "cell_type": "code",
   "execution_count": null,
   "metadata": {},
   "outputs": [],
   "source": []
  }
 ],
 "metadata": {
  "kernelspec": {
   "display_name": "Python 3",
   "language": "python",
   "name": "python3"
  },
  "language_info": {
   "codemirror_mode": {
    "name": "ipython",
    "version": 3
   },
   "file_extension": ".py",
   "mimetype": "text/x-python",
   "name": "python",
   "nbconvert_exporter": "python",
   "pygments_lexer": "ipython3",
   "version": "3.7.2"
  }
 },
 "nbformat": 4,
 "nbformat_minor": 2
}
