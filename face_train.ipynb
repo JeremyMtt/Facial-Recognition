{
 "cells": [
  {
   "cell_type": "code",
   "execution_count": 4,
   "metadata": {},
   "outputs": [],
   "source": [
    "import cv2\n",
    "import os \n",
    "import numpy as np\n",
    "from PIL import Image"
   ]
  },
  {
   "cell_type": "code",
   "execution_count": 5,
   "metadata": {},
   "outputs": [],
   "source": [
    "recognizer = cv2.face.LBPHFaceRecognizer_create()\n",
    "detector = cv2.CascadeClassifier('/Users/maojuntao/anaconda3/pkgs/libopencv-3.4.2-h7c891bd_1/share/OpenCV/haarcascades/haarcascade_frontalface_default.xml')\n",
    "##face recogniter\n",
    "\n",
    "def get_image_and_labels(path):\n",
    "    image_paths = [os.path.join(path,f) for f in os.listdir(path) if f.endswith(\"jpg\") ]\n",
    "    face_samples = []\n",
    "    ids = []\n",
    "\n",
    "    for image_path in image_paths:\n",
    "        image = Image.open(image_path).convert(\"L\") ##gray images\n",
    "        image_np = np.array(image, \"uint8\")\n",
    "\n",
    "        if os.path.split(image_path)[-1].split(\".\")[-1] != \"jpg\":\n",
    "            continue\n",
    "        image_id = int(float(os.path.split(image_path)[-1].split(\".\")[1]))\n",
    "        faces = detector.detectMultiScale(image_np)\n",
    "        for (x,y,w,h) in faces:\n",
    "            face_samples.append(image_np[y : y + h, x : x + w])\n",
    "            ids.append(image_id)\n",
    "    return face_samples, ids"
   ]
  },
  {
   "cell_type": "code",
   "execution_count": null,
   "metadata": {},
   "outputs": [],
   "source": []
  },
  {
   "cell_type": "code",
   "execution_count": null,
   "metadata": {},
   "outputs": [],
   "source": []
  },
  {
   "cell_type": "code",
   "execution_count": 6,
   "metadata": {},
   "outputs": [],
   "source": [
    "faces,Ids = get_image_and_labels('picData')\n",
    "recognizer.train(faces, np.array(Ids))\n",
    "recognizer.save(\"/Users/maojuntao/Downloads/facetrain/real-time_emotion_analyzer/data_trainner.yml\")\n",
    "    \n",
    "\n",
    "                        "
   ]
  },
  {
   "cell_type": "code",
   "execution_count": null,
   "metadata": {},
   "outputs": [],
   "source": []
  }
 ],
 "metadata": {
  "kernelspec": {
   "display_name": "Python 3",
   "language": "python",
   "name": "python3"
  },
  "language_info": {
   "codemirror_mode": {
    "name": "ipython",
    "version": 3
   },
   "file_extension": ".py",
   "mimetype": "text/x-python",
   "name": "python",
   "nbconvert_exporter": "python",
   "pygments_lexer": "ipython3",
   "version": "3.7.2"
  }
 },
 "nbformat": 4,
 "nbformat_minor": 2
}
